{
 "cells": [
  {
   "cell_type": "markdown",
   "metadata": {},
   "source": [
    "### Earth Analytics Bootcamp - Homework 2\n",
    "* **Author**: Mark Brown\n",
    "* **Date**: 15/12/2018"
   ]
  },
  {
   "cell_type": "markdown",
   "metadata": {},
   "source": [
    "##### Question 2 - Import Python Packages\n",
    "In the questions below, you will be creating numpy arrays, and pandas dataframes. You will also be creating plots and downloading data from Figshare.com after setting the working directory.\n",
    "\n",
    "Import the necessary Python packages to accomplish these tasks."
   ]
  },
  {
   "cell_type": "code",
   "execution_count": 2,
   "metadata": {},
   "outputs": [
    {
     "name": "stdout",
     "output_type": "stream",
     "text": [
      "import of packages successful\n"
     ]
    }
   ],
   "source": [
    "#import necessary Python packages\n",
    "\n",
    "import os\n",
    "import numpy as np\n",
    "import pandas as pd\n",
    "import urllib.request\n",
    "import matplotlib as plt\n",
    "\n",
    "print(\"import of packages successful\")"
   ]
  },
  {
   "cell_type": "markdown",
   "metadata": {},
   "source": [
    "#### Question 3: Download CSV File and Import Into Numpy Arrays (6 pts)\n",
    "\n",
    "Use .urllib.request to download the following CSV file of monthly snowfall (inches) between 2007 and 2017 for Boulder, Colorado, to your data directory:\n",
    "\n",
    "snow-2007-to-2017.csv from https://ndownloader.figshare.com/files/12746039\n",
    "\n",
    "This snowfall dataset (inches) contains a row for each year (starting with 2007 through 2017) and contains a column for each month (starting with January through December)."
   ]
  },
  {
   "cell_type": "code",
   "execution_count": 3,
   "metadata": {},
   "outputs": [
    {
     "data": {
      "text/plain": [
       "'C:\\\\Users\\\\markb\\\\earth-analytics-bootcamp'"
      ]
     },
     "execution_count": 3,
     "metadata": {},
     "output_type": "execute_result"
    }
   ],
   "source": [
    "# change directory to earth-analytics-bootcamp\n",
    "os.chdir(\"/Users/markb/earth-analytics-bootcamp\")\n",
    "\n",
    "# print current working directory\n",
    "os.getcwd()"
   ]
  },
  {
   "cell_type": "code",
   "execution_count": 6,
   "metadata": {},
   "outputs": [
    {
     "name": "stdout",
     "output_type": "stream",
     "text": [
      "datasets downloaded successfully\n"
     ]
    }
   ],
   "source": [
    "# use `urllib` download files from Earth Lab figshare repository\n",
    "\n",
    "# download .txt containing monthly average precipitation for Boulder, CO\n",
    "urllib.request.urlretrieve(url = \"https://ndownloader.figshare.com/files/12746039\", \n",
    "                           filename = \"data/snow-2007-to-2017.csv\")\n",
    "\n",
    "# download .txt containing month names\n",
    "urllib.request.urlretrieve(url = \"https://ndownloader.figshare.com/files/12746039\", \n",
    "                           filename = \"data/snow-2007-to-2017.csv\")\n",
    "\n",
    "# print message that data downloads were successful\n",
    "print(\"datasets downloaded successfully\")\n"
   ]
  },
  {
   "cell_type": "code",
   "execution_count": 8,
   "metadata": {},
   "outputs": [],
   "source": [
    "# import the snow data into a numpy array\n",
    "\n",
    "snow_07_to_17 = np.loadtxt(fname = \"/Users/markb/earth-analytics-bootcamp/data/snow-2007-to-2017.csv\", delimiter = \",\")"
   ]
  },
  {
   "cell_type": "markdown",
   "metadata": {},
   "source": [
    "##### Question 4: Print Data From Numpy Arrays Without Scientific Notation (2 pts)\n",
    "\n",
    "Print your imported numpy array after setting the appropriate the options to supress the scientific notation."
   ]
  },
  {
   "cell_type": "code",
   "execution_count": 9,
   "metadata": {},
   "outputs": [],
   "source": [
    "# Display variables in the numpy array as floats, rather than scientific notation\n",
    "\n",
    "np.set_printoptions(suppress=True)"
   ]
  },
  {
   "cell_type": "code",
   "execution_count": 11,
   "metadata": {},
   "outputs": [
    {
     "name": "stdout",
     "output_type": "stream",
     "text": [
      "<class 'numpy.ndarray'>\n",
      "[[27.5    15.3     4.5     2.2     0.0001  0.      0.      0.      0.\n",
      "   0.1     5.9    30.    ]\n",
      " [10.3    10.4    17.6     7.9     0.7     0.      0.      0.      0.\n",
      "   0.2     1.3    20.9   ]\n",
      " [13.      3.9    21.4    20.4     0.      0.      0.      0.      0.\n",
      "  30.1     8.9    27.8   ]\n",
      " [ 4.6    22.9    28.7     5.8     5.6     3.5     0.      0.      0.\n",
      "   0.0001  2.      9.5   ]\n",
      " [18.2    13.2     0.7     3.5     0.2     0.      0.      0.      0.\n",
      "  11.5     8.6    33.1   ]\n",
      " [ 7.8    32.1     0.0001  1.6     0.0001  0.      0.      0.      0.\n",
      "   7.9     0.8    11.7   ]\n",
      " [ 3.7    18.5    22.8    47.6    12.3     0.      0.      0.      0.\n",
      "   5.4     6.3     9.    ]\n",
      " [27.2    11.7    11.2    12.2     6.8     0.      0.      0.      0.5\n",
      "   0.     16.9    19.8   ]\n",
      " [ 6.     54.6     8.      7.4     3.9     0.0001  0.      0.      0.\n",
      "   0.     11.5    17.4   ]\n",
      " [ 4.1    21.8    32.5    21.4     1.      0.      0.      0.      0.\n",
      "   0.      4.4    13.    ]\n",
      " [18.7     9.9     0.     19.4     6.1     0.      0.      0.      0.\n",
      "   8.      4.1    10.2   ]]\n"
     ]
    }
   ],
   "source": [
    "# print the type for 'snow_07_to_17' variable\n",
    "\n",
    "print(type(snow_07_to_17))\n",
    "\n",
    "# print the values in 'snow_07_to_17'\n",
    "\n",
    "print(snow_07_to_17)"
   ]
  },
  {
   "cell_type": "markdown",
   "metadata": {},
   "source": [
    "#### Question 5: Run Calculations on Numpy Arrays (4 pts)\n",
    "\n",
    "Convert the values in your numpy array from inches to millimeters. Recall that one inch is equal to 25.4 millimeters.\n",
    "\n",
    "Print your new numpy array, again supressing the scientific notation."
   ]
  },
  {
   "cell_type": "code",
   "execution_count": 12,
   "metadata": {},
   "outputs": [
    {
     "name": "stdout",
     "output_type": "stream",
     "text": [
      "[[ 698.5      388.62     114.3       55.88       0.00254    0.\n",
      "     0.         0.         0.         2.54     149.86     762.     ]\n",
      " [ 261.62     264.16     447.04     200.66      17.78       0.\n",
      "     0.         0.         0.         5.08      33.02     530.86   ]\n",
      " [ 330.2       99.06     543.56     518.16       0.         0.\n",
      "     0.         0.         0.       764.54     226.06     706.12   ]\n",
      " [ 116.84     581.66     728.98     147.32     142.24      88.9\n",
      "     0.         0.         0.         0.00254   50.8      241.3    ]\n",
      " [ 462.28     335.28      17.78      88.9        5.08       0.\n",
      "     0.         0.         0.       292.1      218.44     840.74   ]\n",
      " [ 198.12     815.34       0.00254   40.64       0.00254    0.\n",
      "     0.         0.         0.       200.66      20.32     297.18   ]\n",
      " [  93.98     469.9      579.12    1209.04     312.42       0.\n",
      "     0.         0.         0.       137.16     160.02     228.6    ]\n",
      " [ 690.88     297.18     284.48     309.88     172.72       0.\n",
      "     0.         0.        12.7        0.       429.26     502.92   ]\n",
      " [ 152.4     1386.84     203.2      187.96      99.06       0.00254\n",
      "     0.         0.         0.         0.       292.1      441.96   ]\n",
      " [ 104.14     553.72     825.5      543.56      25.4        0.\n",
      "     0.         0.         0.         0.       111.76     330.2    ]\n",
      " [ 474.98     251.46       0.       492.76     154.94       0.\n",
      "     0.         0.         0.       203.2      104.14     259.08   ]]\n"
     ]
    }
   ],
   "source": [
    "# Convert 'snow_07_to_17' from inches to mm (multiple by 25.4)\n",
    "snow_07_to_17_mm = snow_07_to_17 * 25.4\n",
    "\n",
    "# Display variables in the numpy array as floats, rather than scientific notation\n",
    "\n",
    "np.set_printoptions(suppress=True)\n",
    "\n",
    "# print the values in 'snow_07_to_17_mm'\n",
    "\n",
    "print(snow_07_to_17_mm)"
   ]
  },
  {
   "cell_type": "markdown",
   "metadata": {},
   "source": [
    "##### Question 6: Select Data From Numpy Arrays (6 pts)\n",
    "\n",
    "Create (and print) a new numpy array containing all data values for the first year (2007). Be sure this new numpy array contains the converted values (mm)."
   ]
  },
  {
   "cell_type": "code",
   "execution_count": 13,
   "metadata": {},
   "outputs": [
    {
     "name": "stdout",
     "output_type": "stream",
     "text": [
      "(11, 12)\n"
     ]
    }
   ],
   "source": [
    "# print the dimensions of snow_07_to_17_mm\n",
    "print(snow_07_to_17_mm.shape)"
   ]
  },
  {
   "cell_type": "code",
   "execution_count": 14,
   "metadata": {},
   "outputs": [
    {
     "name": "stdout",
     "output_type": "stream",
     "text": [
      "[[698.5     388.62    114.3      55.88      0.00254   0.        0.\n",
      "    0.        0.        2.54    149.86    762.     ]]\n"
     ]
    }
   ],
   "source": [
    "# create a new numpy array containing all data values for 2007\n",
    "\n",
    "snow_07_mm = snow_07_to_17_mm[0:1, 0:12]\n",
    "\n",
    "# print data in 'snow_07_mm'\n",
    "\n",
    "print(snow_07_mm)"
   ]
  },
  {
   "cell_type": "markdown",
   "metadata": {},
   "source": [
    "#### Question 7: Select Data From Numpy Arrays (6 pts)\n",
    "\n",
    "Create (and print) a new numpy array containing all data values for January across all years. Be sure this new numpy array contains the converted values (mm)."
   ]
  },
  {
   "cell_type": "code",
   "execution_count": 15,
   "metadata": {},
   "outputs": [
    {
     "name": "stdout",
     "output_type": "stream",
     "text": [
      "[[698.5 ]\n",
      " [261.62]\n",
      " [330.2 ]\n",
      " [116.84]\n",
      " [462.28]\n",
      " [198.12]\n",
      " [ 93.98]\n",
      " [690.88]\n",
      " [152.4 ]\n",
      " [104.14]\n",
      " [474.98]]\n"
     ]
    }
   ],
   "source": [
    "# create a new numpy array containing all values for January across the years\n",
    "\n",
    "snow_Jan_07_to_17_mm = snow_07_to_17_mm[0:11, 0:1]\n",
    "\n",
    "# print data in 'snow_07_mm'\n",
    "\n",
    "print(snow_Jan_07_to_17_mm)"
   ]
  },
  {
   "cell_type": "markdown",
   "metadata": {},
   "source": [
    "##### Question 8: Calculate Summary Statistics of Numpy Arrays (4 pts)\n",
    "\n",
    "Calculate (and print) the maximum value of your numpy array for 2007.\n",
    "\n",
    "Add a text string to your print to label your result."
   ]
  },
  {
   "cell_type": "code",
   "execution_count": 16,
   "metadata": {},
   "outputs": [
    {
     "name": "stdout",
     "output_type": "stream",
     "text": [
      "The maximum snowfall during 2007 was 762.0 mm\n"
     ]
    }
   ],
   "source": [
    "# find the maximum value in 'snow_07_mm'\n",
    "\n",
    "snow_07_mm_max = np.max(snow_07_mm)\n",
    "\n",
    "# print this value along with a message\n",
    "\n",
    "print(\"The maximum snowfall during 2007 was\", snow_07_mm_max, \"mm\" )"
   ]
  },
  {
   "cell_type": "markdown",
   "metadata": {},
   "source": [
    "#### Question 9: Calculate Summary Statistics of Numpy Arrays (4 pts)\n",
    "\n",
    "Calculate (and print) the mean (i.e. average) value for your numpy array for January.\n",
    "\n",
    "Add a text string to your print to label your result."
   ]
  },
  {
   "cell_type": "code",
   "execution_count": 20,
   "metadata": {},
   "outputs": [
    {
     "name": "stdout",
     "output_type": "stream",
     "text": [
      "The mean snowfall in January from 2007 to 2017 was 325.81 mm\n"
     ]
    }
   ],
   "source": [
    "# find the medium value in snow_Jan_07_to_17_mm\n",
    "\n",
    "snow_Jan_07_to_17_mm_mean = np.mean(snow_Jan_07_to_17_mm)\n",
    "\n",
    "# print this value along with a message\n",
    "\n",
    "print(\"The mean snowfall in January from 2007 to 2017 was\", round(snow_Jan_07_to_17_mm_mean,2), \"mm\")"
   ]
  },
  {
   "cell_type": "code",
   "execution_count": null,
   "metadata": {},
   "outputs": [],
   "source": []
  }
 ],
 "metadata": {
  "kernelspec": {
   "display_name": "Python 3",
   "language": "python",
   "name": "python3"
  },
  "language_info": {
   "codemirror_mode": {
    "name": "ipython",
    "version": 3
   },
   "file_extension": ".py",
   "mimetype": "text/x-python",
   "name": "python",
   "nbconvert_exporter": "python",
   "pygments_lexer": "ipython3",
   "version": "3.7.0"
  }
 },
 "nbformat": 4,
 "nbformat_minor": 2
}
